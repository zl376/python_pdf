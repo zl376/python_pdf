{
 "cells": [
  {
   "cell_type": "code",
   "execution_count": 1,
   "metadata": {},
   "outputs": [],
   "source": [
    "%matplotlib inline\n",
    "\n",
    "import matplotlib.pyplot as plt\n",
    "import pandas as pd\n",
    "import datetime\n",
    "import pickle\n",
    "import numpy as np\n",
    "\n",
    "from utils_pdf import *"
   ]
  },
  {
   "cell_type": "markdown",
   "metadata": {},
   "source": [
    "# Setting "
   ]
  },
  {
   "cell_type": "code",
   "execution_count": 2,
   "metadata": {
    "tags": [
     "parameters"
    ]
   },
   "outputs": [],
   "source": [
    "TITLE = 'This is a title, {}'.format(datetime.datetime.now().strftime('%Y%m%d'))"
   ]
  },
  {
   "cell_type": "markdown",
   "metadata": {},
   "source": [
    "# Main document "
   ]
  },
  {
   "cell_type": "code",
   "execution_count": 3,
   "metadata": {},
   "outputs": [],
   "source": [
    "geometry_options = {'margin': '0.5in'}\n",
    "doc = Document(geometry_options=geometry_options)\n",
    "doc.append(NoEscape(r'\\linespread{1.5}'))\n",
    "doc.preamble.append(NoEscape(r'\\usepackage{float}'))"
   ]
  },
  {
   "cell_type": "markdown",
   "metadata": {},
   "source": [
    "# Title"
   ]
  },
  {
   "cell_type": "code",
   "execution_count": 4,
   "metadata": {},
   "outputs": [],
   "source": [
    "with doc.create(MiniPage(align='c')):\n",
    "    doc.append(LargeText(bold(TITLE)))"
   ]
  },
  {
   "cell_type": "markdown",
   "metadata": {},
   "source": [
    "# Content"
   ]
  },
  {
   "cell_type": "code",
   "execution_count": 5,
   "metadata": {},
   "outputs": [],
   "source": [
    "with doc.create(Section('Section')):\n",
    "    with doc.create(Subsection('Subsection')):\n",
    "        with doc.create(Description()) as desc:\n",
    "            desc.add_item('Item 1:', 'XX')\n",
    "            desc.add_item('Item 2:', 'YY')\n",
    "            \n",
    "with doc.create(Section('Figure')):\n",
    "    add_figure(doc, filename='data/sample.jpg', caption='This is a figure')\n",
    "                        \n",
    "with doc.create(Section('Table')):\n",
    "    add_table(doc, df=pd.DataFrame({'A': [1,2,3], 'B': [4,5,6]}, index=['a', 'b', 'c']),\n",
    "                   flag_index=True)"
   ]
  },
  {
   "cell_type": "code",
   "execution_count": 6,
   "metadata": {
    "scrolled": false
   },
   "outputs": [],
   "source": [
    "doc.generate_pdf('result', clean_tex=True)"
   ]
  },
  {
   "cell_type": "code",
   "execution_count": null,
   "metadata": {},
   "outputs": [],
   "source": []
  }
 ],
 "metadata": {
  "kernelspec": {
   "display_name": "Python 3",
   "language": "python",
   "name": "python3"
  },
  "language_info": {
   "codemirror_mode": {
    "name": "ipython",
    "version": 3
   },
   "file_extension": ".py",
   "mimetype": "text/x-python",
   "name": "python",
   "nbconvert_exporter": "python",
   "pygments_lexer": "ipython3",
   "version": "3.7.3"
  },
  "toc": {
   "base_numbering": 1,
   "nav_menu": {},
   "number_sections": true,
   "sideBar": true,
   "skip_h1_title": false,
   "title_cell": "Table of Contents",
   "title_sidebar": "Contents",
   "toc_cell": false,
   "toc_position": {
    "height": "calc(100% - 180px)",
    "left": "10px",
    "top": "150px",
    "width": "292.6px"
   },
   "toc_section_display": true,
   "toc_window_display": true
  }
 },
 "nbformat": 4,
 "nbformat_minor": 2
}
